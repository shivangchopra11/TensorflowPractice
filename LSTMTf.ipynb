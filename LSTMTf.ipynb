{
 "cells": [
  {
   "cell_type": "code",
   "execution_count": 1,
   "metadata": {},
   "outputs": [],
   "source": [
    "import tensorflow as tf\n",
    "import numpy as np\n",
    "from tensorflow.examples.tutorials.mnist import input_data"
   ]
  },
  {
   "cell_type": "code",
   "execution_count": 2,
   "metadata": {},
   "outputs": [
    {
     "name": "stdout",
     "output_type": "stream",
     "text": [
      "WARNING:tensorflow:From <ipython-input-2-8c78d5c07511>:1: read_data_sets (from tensorflow.contrib.learn.python.learn.datasets.mnist) is deprecated and will be removed in a future version.\n",
      "Instructions for updating:\n",
      "Please use alternatives such as official/mnist/dataset.py from tensorflow/models.\n",
      "WARNING:tensorflow:From /usr/local/lib/python2.7/site-packages/tensorflow/contrib/learn/python/learn/datasets/mnist.py:260: maybe_download (from tensorflow.contrib.learn.python.learn.datasets.base) is deprecated and will be removed in a future version.\n",
      "Instructions for updating:\n",
      "Please write your own downloading logic.\n",
      "WARNING:tensorflow:From /usr/local/lib/python2.7/site-packages/tensorflow/contrib/learn/python/learn/datasets/mnist.py:262: extract_images (from tensorflow.contrib.learn.python.learn.datasets.mnist) is deprecated and will be removed in a future version.\n",
      "Instructions for updating:\n",
      "Please use tf.data to implement this functionality.\n",
      "Extracting tensorflow/models/train-images-idx3-ubyte.gz\n",
      "WARNING:tensorflow:From /usr/local/lib/python2.7/site-packages/tensorflow/contrib/learn/python/learn/datasets/mnist.py:267: extract_labels (from tensorflow.contrib.learn.python.learn.datasets.mnist) is deprecated and will be removed in a future version.\n",
      "Instructions for updating:\n",
      "Please use tf.data to implement this functionality.\n",
      "Extracting tensorflow/models/train-labels-idx1-ubyte.gz\n",
      "WARNING:tensorflow:From /usr/local/lib/python2.7/site-packages/tensorflow/contrib/learn/python/learn/datasets/mnist.py:110: dense_to_one_hot (from tensorflow.contrib.learn.python.learn.datasets.mnist) is deprecated and will be removed in a future version.\n",
      "Instructions for updating:\n",
      "Please use tf.one_hot on tensors.\n",
      "Extracting tensorflow/models/t10k-images-idx3-ubyte.gz\n",
      "Extracting tensorflow/models/t10k-labels-idx1-ubyte.gz\n",
      "WARNING:tensorflow:From /usr/local/lib/python2.7/site-packages/tensorflow/contrib/learn/python/learn/datasets/mnist.py:290: __init__ (from tensorflow.contrib.learn.python.learn.datasets.mnist) is deprecated and will be removed in a future version.\n",
      "Instructions for updating:\n",
      "Please use alternatives such as official/mnist/dataset.py from tensorflow/models.\n"
     ]
    }
   ],
   "source": [
    "mnist = input_data.read_data_sets( 'tensorflow/models', one_hot=True )"
   ]
  },
  {
   "cell_type": "code",
   "execution_count": 3,
   "metadata": {},
   "outputs": [],
   "source": [
    "num_epochs = 20\n",
    "n_features = 28\n",
    "n_hidden = 128\n",
    "n_timestamps = 28\n",
    "n_classes = 10\n",
    "lr = 0.01"
   ]
  },
  {
   "cell_type": "code",
   "execution_count": 4,
   "metadata": {},
   "outputs": [],
   "source": [
    "with tf.variable_scope('input'):\n",
    "    ## Placeholder for input vector with shape[batch, seq, embeddings]\n",
    "    x = tf.placeholder(dtype=tf.float32,shape=[None,n_timestamps,n_features])\n",
    "    ## Placeholder for input vector with shape[batch, num_classes]\n",
    "    y = tf.placeholder(dtype=tf.float32, shape=[None, n_classes])\n",
    "    ## Hidden Vector Initially\n",
    "    initial_hidden = x[:, 0, :]\n",
    "    initial_hidden = tf.matmul(initial_hidden, tf.ones([n_features, n_hidden]))\n",
    "    initial_hidden = tf.stack([initial_hidden, initial_hidden])"
   ]
  },
  {
   "cell_type": "code",
   "execution_count": 5,
   "metadata": {},
   "outputs": [],
   "source": [
    "with tf.variable_scope('lstm_cell'):\n",
    "    # Processing inputs to work with scan function\n",
    "    # Process tensor of size [5,3,2] to [3,5,2]\n",
    "#     batch_input_ = tf.transpose(x, perm=[2, 0, 1])\n",
    "#     processed_input = tf.transpose(batch_input_)\n",
    "    ## Forget Gate\n",
    "    init = tf.contrib.layers.xavier_initializer()\n",
    "    wf = tf.get_variable( 'wf', shape= [n_features,n_hidden],initializer= init )\n",
    "    uf = tf.get_variable( 'uf', shape = [n_hidden,n_hidden], initializer=init)\n",
    "    bf = tf.get_variable( 'bf', shape = [n_hidden], initializer=init)\n",
    "    ## Input Gate\n",
    "    wi = tf.get_variable( 'wi', shape= [n_features,n_hidden],initializer= init )\n",
    "    ui = tf.get_variable( 'ui', shape = [n_hidden,n_hidden], initializer=init)\n",
    "    bi = tf.get_variable( 'bi', shape = [n_hidden], initializer=init)\n",
    "    ## New candidate Gate\n",
    "    wc = tf.get_variable( 'wc', shape= [n_features,n_hidden],initializer= init )\n",
    "    uc = tf.get_variable( 'uc', shape = [n_hidden,n_hidden], initializer=init)\n",
    "    bc = tf.get_variable( 'bc', shape = [n_hidden], initializer=init)\n",
    "    ## Output Gate\n",
    "    wog = tf.get_variable( 'wog', shape= [n_features,n_hidden],initializer= init )\n",
    "    uog = tf.get_variable( 'uog', shape = [n_hidden,n_hidden], initializer=init)\n",
    "    bog = tf.get_variable( 'bog', shape = [n_hidden], initializer=init)   "
   ]
  },
  {
   "cell_type": "code",
   "execution_count": 6,
   "metadata": {},
   "outputs": [],
   "source": [
    "with tf.variable_scope('dense'):\n",
    "    wo = tf.get_variable( 'wo', shape= [n_hidden,n_classes],initializer= init )\n",
    "    bo = tf.get_variable( 'bo', shape = [n_classes], initializer=init)"
   ]
  },
  {
   "cell_type": "code",
   "execution_count": 7,
   "metadata": {},
   "outputs": [],
   "source": [
    "def graph_def(prev_hidden, x):\n",
    "    previous_hidden_state, c_prev = tf.unstack(prev_hidden)\n",
    "    i = tf.nn.sigmoid(tf.matmul(x,wi) + tf.matmul(previous_hidden_state,ui) + bi)\n",
    "    f = tf.nn.sigmoid(tf.matmul(x,wf) + tf.matmul(previous_hidden_state,uf) + bf)\n",
    "    o = tf.nn.sigmoid(tf.matmul(x,wog) + tf.matmul(previous_hidden_state,uog) + bog)\n",
    "    c_ = tf.nn.tanh(tf.matmul(x,wc) + tf.matmul(previous_hidden_state,uc) + bc)\n",
    "    c = tf.multiply(f,c_prev) + tf.multiply(i,c_)\n",
    "    current_hidden_state = tf.multiply(o, tf.nn.tanh(c))\n",
    "    return tf.stack([current_hidden_state,c])"
   ]
  },
  {
   "cell_type": "code",
   "execution_count": 8,
   "metadata": {},
   "outputs": [],
   "source": [
    "def get_state():\n",
    "    prev_hidden = initial_hidden\n",
    "    for ix in range(n_timestamps):\n",
    "        cur_hidden = graph_def(prev_hidden,x[:,ix,:])\n",
    "        prev_hidden = cur_hidden\n",
    "    print(prev_hidden[0,:,:].shape)\n",
    "    print(x[:,ix,:].shape)\n",
    "    return prev_hidden[0,:,:]"
   ]
  },
  {
   "cell_type": "code",
   "execution_count": 9,
   "metadata": {},
   "outputs": [],
   "source": [
    "def get_output():\n",
    "    hidden_state = get_state()\n",
    "    output = tf.add(tf.matmul(hidden_state, wo), bo)\n",
    "    return output"
   ]
  },
  {
   "cell_type": "code",
   "execution_count": 10,
   "metadata": {},
   "outputs": [
    {
     "name": "stdout",
     "output_type": "stream",
     "text": [
      "(?, 128)\n",
      "(?, 28)\n"
     ]
    }
   ],
   "source": [
    "output = get_output()\n",
    "prediction = tf.nn.softmax(output)"
   ]
  },
  {
   "cell_type": "code",
   "execution_count": 11,
   "metadata": {},
   "outputs": [],
   "source": [
    "cost = tf.nn.softmax_cross_entropy_with_logits_v2(logits=output,labels=y)\n",
    "cost = tf.reduce_mean(cost)\n",
    "saver = tf.train.Saver(max_to_keep=10)\n",
    "summary = tf.summary.scalar('cost',cost)"
   ]
  },
  {
   "cell_type": "code",
   "execution_count": 12,
   "metadata": {},
   "outputs": [],
   "source": [
    "train_writer = tf.summary.FileWriter('./logs/training_lstm')\n",
    "train_writer.add_graph( tf.get_default_graph() )"
   ]
  },
  {
   "cell_type": "code",
   "execution_count": 13,
   "metadata": {},
   "outputs": [],
   "source": [
    "optimizer = tf.train.RMSPropOptimizer(learning_rate=lr).minimize(cost)\n",
    "correct_prediction = tf.equal(tf.argmax(prediction, 1), tf.argmax(y, 1))\n",
    "# correct_prediction = (tf.argmax(prediction, 1) == tf.argmax(y, 1))\n",
    "accuracy = (tf.reduce_mean(tf.cast(correct_prediction, tf.float32)))"
   ]
  },
  {
   "cell_type": "code",
   "execution_count": 14,
   "metadata": {},
   "outputs": [
    {
     "name": "stdout",
     "output_type": "stream",
     "text": [
      "Epoch: 1\n",
      "Training Loss is 2.37643187046051\n",
      "Testing loss is 2.3783138513565065\n",
      "\n",
      "Training Accuracy is 0.103515625\n",
      "\n",
      " Model Saved \n",
      " \n",
      " ----------- \n",
      "\n",
      "Epoch: 2\n",
      "Training Loss is 2.3111844158172605\n",
      "Testing loss is 2.3107133388519285\n",
      "\n",
      "Training Accuracy is 0.106484375\n",
      "\n",
      " Model Saved \n",
      " \n",
      " ----------- \n",
      "\n"
     ]
    },
    {
     "ename": "KeyboardInterrupt",
     "evalue": "",
     "output_type": "error",
     "traceback": [
      "\u001b[0;31m---------------------------------------------------------------------------\u001b[0m",
      "\u001b[0;31mKeyboardInterrupt\u001b[0m                         Traceback (most recent call last)",
      "\u001b[0;32m<ipython-input-14-45ab0c20d12a>\u001b[0m in \u001b[0;36m<module>\u001b[0;34m()\u001b[0m\n\u001b[1;32m     13\u001b[0m             _,training_loss,train_summary,train_accuracy, prediction1 = sess.run([optimizer,cost,summary,accuracy,correct_prediction],feed_dict = {\n\u001b[1;32m     14\u001b[0m                 \u001b[0mx\u001b[0m\u001b[0;34m:\u001b[0m\u001b[0mdata_x\u001b[0m\u001b[0;34m,\u001b[0m\u001b[0;34m\u001b[0m\u001b[0m\n\u001b[0;32m---> 15\u001b[0;31m                 \u001b[0my\u001b[0m\u001b[0;34m:\u001b[0m\u001b[0mdata_y\u001b[0m\u001b[0;34m\u001b[0m\u001b[0m\n\u001b[0m\u001b[1;32m     16\u001b[0m             })\n\u001b[1;32m     17\u001b[0m \u001b[0;31m#             print ( prediction1 )\u001b[0m\u001b[0;34m\u001b[0m\u001b[0;34m\u001b[0m\u001b[0m\n",
      "\u001b[0;32m/usr/local/lib/python2.7/site-packages/tensorflow/python/client/session.pyc\u001b[0m in \u001b[0;36mrun\u001b[0;34m(self, fetches, feed_dict, options, run_metadata)\u001b[0m\n\u001b[1;32m    927\u001b[0m     \u001b[0;32mtry\u001b[0m\u001b[0;34m:\u001b[0m\u001b[0;34m\u001b[0m\u001b[0m\n\u001b[1;32m    928\u001b[0m       result = self._run(None, fetches, feed_dict, options_ptr,\n\u001b[0;32m--> 929\u001b[0;31m                          run_metadata_ptr)\n\u001b[0m\u001b[1;32m    930\u001b[0m       \u001b[0;32mif\u001b[0m \u001b[0mrun_metadata\u001b[0m\u001b[0;34m:\u001b[0m\u001b[0;34m\u001b[0m\u001b[0m\n\u001b[1;32m    931\u001b[0m         \u001b[0mproto_data\u001b[0m \u001b[0;34m=\u001b[0m \u001b[0mtf_session\u001b[0m\u001b[0;34m.\u001b[0m\u001b[0mTF_GetBuffer\u001b[0m\u001b[0;34m(\u001b[0m\u001b[0mrun_metadata_ptr\u001b[0m\u001b[0;34m)\u001b[0m\u001b[0;34m\u001b[0m\u001b[0m\n",
      "\u001b[0;32m/usr/local/lib/python2.7/site-packages/tensorflow/python/client/session.pyc\u001b[0m in \u001b[0;36m_run\u001b[0;34m(self, handle, fetches, feed_dict, options, run_metadata)\u001b[0m\n\u001b[1;32m   1150\u001b[0m     \u001b[0;32mif\u001b[0m \u001b[0mfinal_fetches\u001b[0m \u001b[0;32mor\u001b[0m \u001b[0mfinal_targets\u001b[0m \u001b[0;32mor\u001b[0m \u001b[0;34m(\u001b[0m\u001b[0mhandle\u001b[0m \u001b[0;32mand\u001b[0m \u001b[0mfeed_dict_tensor\u001b[0m\u001b[0;34m)\u001b[0m\u001b[0;34m:\u001b[0m\u001b[0;34m\u001b[0m\u001b[0m\n\u001b[1;32m   1151\u001b[0m       results = self._do_run(handle, final_targets, final_fetches,\n\u001b[0;32m-> 1152\u001b[0;31m                              feed_dict_tensor, options, run_metadata)\n\u001b[0m\u001b[1;32m   1153\u001b[0m     \u001b[0;32melse\u001b[0m\u001b[0;34m:\u001b[0m\u001b[0;34m\u001b[0m\u001b[0m\n\u001b[1;32m   1154\u001b[0m       \u001b[0mresults\u001b[0m \u001b[0;34m=\u001b[0m \u001b[0;34m[\u001b[0m\u001b[0;34m]\u001b[0m\u001b[0;34m\u001b[0m\u001b[0m\n",
      "\u001b[0;32m/usr/local/lib/python2.7/site-packages/tensorflow/python/client/session.pyc\u001b[0m in \u001b[0;36m_do_run\u001b[0;34m(self, handle, target_list, fetch_list, feed_dict, options, run_metadata)\u001b[0m\n\u001b[1;32m   1326\u001b[0m     \u001b[0;32mif\u001b[0m \u001b[0mhandle\u001b[0m \u001b[0;32mis\u001b[0m \u001b[0mNone\u001b[0m\u001b[0;34m:\u001b[0m\u001b[0;34m\u001b[0m\u001b[0m\n\u001b[1;32m   1327\u001b[0m       return self._do_call(_run_fn, feeds, fetches, targets, options,\n\u001b[0;32m-> 1328\u001b[0;31m                            run_metadata)\n\u001b[0m\u001b[1;32m   1329\u001b[0m     \u001b[0;32melse\u001b[0m\u001b[0;34m:\u001b[0m\u001b[0;34m\u001b[0m\u001b[0m\n\u001b[1;32m   1330\u001b[0m       \u001b[0;32mreturn\u001b[0m \u001b[0mself\u001b[0m\u001b[0;34m.\u001b[0m\u001b[0m_do_call\u001b[0m\u001b[0;34m(\u001b[0m\u001b[0m_prun_fn\u001b[0m\u001b[0;34m,\u001b[0m \u001b[0mhandle\u001b[0m\u001b[0;34m,\u001b[0m \u001b[0mfeeds\u001b[0m\u001b[0;34m,\u001b[0m \u001b[0mfetches\u001b[0m\u001b[0;34m)\u001b[0m\u001b[0;34m\u001b[0m\u001b[0m\n",
      "\u001b[0;32m/usr/local/lib/python2.7/site-packages/tensorflow/python/client/session.pyc\u001b[0m in \u001b[0;36m_do_call\u001b[0;34m(self, fn, *args)\u001b[0m\n\u001b[1;32m   1332\u001b[0m   \u001b[0;32mdef\u001b[0m \u001b[0m_do_call\u001b[0m\u001b[0;34m(\u001b[0m\u001b[0mself\u001b[0m\u001b[0;34m,\u001b[0m \u001b[0mfn\u001b[0m\u001b[0;34m,\u001b[0m \u001b[0;34m*\u001b[0m\u001b[0margs\u001b[0m\u001b[0;34m)\u001b[0m\u001b[0;34m:\u001b[0m\u001b[0;34m\u001b[0m\u001b[0m\n\u001b[1;32m   1333\u001b[0m     \u001b[0;32mtry\u001b[0m\u001b[0;34m:\u001b[0m\u001b[0;34m\u001b[0m\u001b[0m\n\u001b[0;32m-> 1334\u001b[0;31m       \u001b[0;32mreturn\u001b[0m \u001b[0mfn\u001b[0m\u001b[0;34m(\u001b[0m\u001b[0;34m*\u001b[0m\u001b[0margs\u001b[0m\u001b[0;34m)\u001b[0m\u001b[0;34m\u001b[0m\u001b[0m\n\u001b[0m\u001b[1;32m   1335\u001b[0m     \u001b[0;32mexcept\u001b[0m \u001b[0merrors\u001b[0m\u001b[0;34m.\u001b[0m\u001b[0mOpError\u001b[0m \u001b[0;32mas\u001b[0m \u001b[0me\u001b[0m\u001b[0;34m:\u001b[0m\u001b[0;34m\u001b[0m\u001b[0m\n\u001b[1;32m   1336\u001b[0m       \u001b[0mmessage\u001b[0m \u001b[0;34m=\u001b[0m \u001b[0mcompat\u001b[0m\u001b[0;34m.\u001b[0m\u001b[0mas_text\u001b[0m\u001b[0;34m(\u001b[0m\u001b[0me\u001b[0m\u001b[0;34m.\u001b[0m\u001b[0mmessage\u001b[0m\u001b[0;34m)\u001b[0m\u001b[0;34m\u001b[0m\u001b[0m\n",
      "\u001b[0;32m/usr/local/lib/python2.7/site-packages/tensorflow/python/client/session.pyc\u001b[0m in \u001b[0;36m_run_fn\u001b[0;34m(feed_dict, fetch_list, target_list, options, run_metadata)\u001b[0m\n\u001b[1;32m   1317\u001b[0m       \u001b[0mself\u001b[0m\u001b[0;34m.\u001b[0m\u001b[0m_extend_graph\u001b[0m\u001b[0;34m(\u001b[0m\u001b[0;34m)\u001b[0m\u001b[0;34m\u001b[0m\u001b[0m\n\u001b[1;32m   1318\u001b[0m       return self._call_tf_sessionrun(\n\u001b[0;32m-> 1319\u001b[0;31m           options, feed_dict, fetch_list, target_list, run_metadata)\n\u001b[0m\u001b[1;32m   1320\u001b[0m \u001b[0;34m\u001b[0m\u001b[0m\n\u001b[1;32m   1321\u001b[0m     \u001b[0;32mdef\u001b[0m \u001b[0m_prun_fn\u001b[0m\u001b[0;34m(\u001b[0m\u001b[0mhandle\u001b[0m\u001b[0;34m,\u001b[0m \u001b[0mfeed_dict\u001b[0m\u001b[0;34m,\u001b[0m \u001b[0mfetch_list\u001b[0m\u001b[0;34m)\u001b[0m\u001b[0;34m:\u001b[0m\u001b[0;34m\u001b[0m\u001b[0m\n",
      "\u001b[0;32m/usr/local/lib/python2.7/site-packages/tensorflow/python/client/session.pyc\u001b[0m in \u001b[0;36m_call_tf_sessionrun\u001b[0;34m(self, options, feed_dict, fetch_list, target_list, run_metadata)\u001b[0m\n\u001b[1;32m   1405\u001b[0m     return tf_session.TF_SessionRun_wrapper(\n\u001b[1;32m   1406\u001b[0m         \u001b[0mself\u001b[0m\u001b[0;34m.\u001b[0m\u001b[0m_session\u001b[0m\u001b[0;34m,\u001b[0m \u001b[0moptions\u001b[0m\u001b[0;34m,\u001b[0m \u001b[0mfeed_dict\u001b[0m\u001b[0;34m,\u001b[0m \u001b[0mfetch_list\u001b[0m\u001b[0;34m,\u001b[0m \u001b[0mtarget_list\u001b[0m\u001b[0;34m,\u001b[0m\u001b[0;34m\u001b[0m\u001b[0m\n\u001b[0;32m-> 1407\u001b[0;31m         run_metadata)\n\u001b[0m\u001b[1;32m   1408\u001b[0m \u001b[0;34m\u001b[0m\u001b[0m\n\u001b[1;32m   1409\u001b[0m   \u001b[0;32mdef\u001b[0m \u001b[0m_call_tf_sessionprun\u001b[0m\u001b[0;34m(\u001b[0m\u001b[0mself\u001b[0m\u001b[0;34m,\u001b[0m \u001b[0mhandle\u001b[0m\u001b[0;34m,\u001b[0m \u001b[0mfeed_dict\u001b[0m\u001b[0;34m,\u001b[0m \u001b[0mfetch_list\u001b[0m\u001b[0;34m)\u001b[0m\u001b[0;34m:\u001b[0m\u001b[0;34m\u001b[0m\u001b[0m\n",
      "\u001b[0;31mKeyboardInterrupt\u001b[0m: "
     ]
    }
   ],
   "source": [
    "with tf.Session() as sess:\n",
    "    sess.run(tf.global_variables_initializer())\n",
    "#     last_ckpt = tf.train.latest_checkpoint('./lstm_weights')\n",
    "#     saver.restore(sess,last_ckpt)\n",
    "    for epoch in range(num_epochs):\n",
    "        training_loss_epoch = 0.0\n",
    "        testing_loss_epoch = 0.0\n",
    "        training_accuracy_epoch = 0.0\n",
    "        for _ in range(50):\n",
    "            data_x,data_y = mnist.train.next_batch(256)\n",
    "            data_x = data_x/255.0\n",
    "            data_x = data_x.reshape(-1,28,28)\n",
    "            _,training_loss,train_summary,train_accuracy, prediction1 = sess.run([optimizer,cost,summary,accuracy,correct_prediction],feed_dict = {\n",
    "                x:data_x,\n",
    "                y:data_y\n",
    "            })\n",
    "#             print ( prediction1 )\n",
    "            #break\n",
    "#             train_writer.add_summary(train_summary,epoch)\n",
    "            training_loss_epoch += training_loss\n",
    "            training_accuracy_epoch += train_accuracy\n",
    "        \n",
    "            data_x,data_y = mnist.test.next_batch(256)\n",
    "            data_x = data_x/255.0\n",
    "            data_x = data_x.reshape(-1,28,28)\n",
    "            test_loss = sess.run(cost, feed_dict = {\n",
    "                x:data_x,\n",
    "                y:data_y\n",
    "            })\n",
    "            testing_loss_epoch += test_loss\n",
    "        training_loss_epoch = training_loss_epoch/50\n",
    "        testing_loss_epoch = testing_loss_epoch/50\n",
    "        training_accuracy_epoch = training_accuracy_epoch/50\n",
    "        print('Epoch: '+str(epoch+1))\n",
    "        print ( 'Training Loss is ' + str(training_loss_epoch) + '\\nTesting loss is ' + str(testing_loss_epoch) + '\\n')\n",
    "        print('Training Accuracy is ' + str(training_accuracy_epoch) + '\\n')\n",
    "        saver.save(sess, './lstm_weights/epoch_' + str(epoch + 1) + '.ckpt')\n",
    "        print (\" Model Saved \\n \")\n",
    "        print (\" ----------- \\n\")"
   ]
  },
  {
   "cell_type": "code",
   "execution_count": null,
   "metadata": {},
   "outputs": [],
   "source": [
    "from keras.layers import LSTM, Dense\n",
    "from keras.models import Sequential"
   ]
  },
  {
   "cell_type": "code",
   "execution_count": null,
   "metadata": {},
   "outputs": [],
   "source": [
    "model = Sequential()\n",
    "model.add(LSTM(128, return_sequences=False, input_shape = (28,28)) )\n",
    "model.add(Dense(n_classes, activation='softmax'))\n",
    "model.summary()"
   ]
  },
  {
   "cell_type": "code",
   "execution_count": null,
   "metadata": {},
   "outputs": [],
   "source": []
  },
  {
   "cell_type": "code",
   "execution_count": null,
   "metadata": {},
   "outputs": [],
   "source": [
    "model.compile(loss='categorical_crossentropy', optimizer='rmsprop', metrics=['accuracy'])"
   ]
  },
  {
   "cell_type": "code",
   "execution_count": null,
   "metadata": {},
   "outputs": [],
   "source": [
    "data_x,data_y = mnist.train.next_batch(25600)\n",
    "data_x = data_x/255.0\n",
    "data_x=data_x.reshape(-1,28,28)\n",
    "model.fit(data_x,data_y,epochs=10,batch_size=256,shuffle=True)"
   ]
  },
  {
   "cell_type": "code",
   "execution_count": null,
   "metadata": {},
   "outputs": [],
   "source": []
  }
 ],
 "metadata": {
  "kernelspec": {
   "display_name": "Python 3",
   "language": "python",
   "name": "python3"
  },
  "language_info": {
   "codemirror_mode": {
    "name": "ipython",
    "version": 2
   },
   "file_extension": ".py",
   "mimetype": "text/x-python",
   "name": "python",
   "nbconvert_exporter": "python",
   "pygments_lexer": "ipython2",
   "version": "2.7.15"
  }
 },
 "nbformat": 4,
 "nbformat_minor": 2
}
