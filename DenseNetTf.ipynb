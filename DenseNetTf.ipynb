{
 "cells": [
  {
   "cell_type": "code",
   "execution_count": 1,
   "metadata": {},
   "outputs": [],
   "source": [
    "import tensorflow as tf\n",
    "import numpy as np"
   ]
  },
  {
   "cell_type": "code",
   "execution_count": 2,
   "metadata": {},
   "outputs": [],
   "source": [
    "from tensorflow.examples.tutorials.mnist import input_data"
   ]
  },
  {
   "cell_type": "code",
   "execution_count": 3,
   "metadata": {},
   "outputs": [
    {
     "name": "stdout",
     "output_type": "stream",
     "text": [
      "WARNING:tensorflow:From <ipython-input-3-d6b1396102cf>:1: read_data_sets (from tensorflow.contrib.learn.python.learn.datasets.mnist) is deprecated and will be removed in a future version.\n",
      "Instructions for updating:\n",
      "Please use alternatives such as official/mnist/dataset.py from tensorflow/models.\n",
      "WARNING:tensorflow:From /usr/local/lib/python2.7/site-packages/tensorflow/contrib/learn/python/learn/datasets/mnist.py:260: maybe_download (from tensorflow.contrib.learn.python.learn.datasets.base) is deprecated and will be removed in a future version.\n",
      "Instructions for updating:\n",
      "Please write your own downloading logic.\n",
      "WARNING:tensorflow:From /usr/local/lib/python2.7/site-packages/tensorflow/contrib/learn/python/learn/datasets/mnist.py:262: extract_images (from tensorflow.contrib.learn.python.learn.datasets.mnist) is deprecated and will be removed in a future version.\n",
      "Instructions for updating:\n",
      "Please use tf.data to implement this functionality.\n",
      "Extracting official/mnist/dataset.py/train-images-idx3-ubyte.gz\n",
      "WARNING:tensorflow:From /usr/local/lib/python2.7/site-packages/tensorflow/contrib/learn/python/learn/datasets/mnist.py:267: extract_labels (from tensorflow.contrib.learn.python.learn.datasets.mnist) is deprecated and will be removed in a future version.\n",
      "Instructions for updating:\n",
      "Please use tf.data to implement this functionality.\n",
      "Extracting official/mnist/dataset.py/train-labels-idx1-ubyte.gz\n",
      "WARNING:tensorflow:From /usr/local/lib/python2.7/site-packages/tensorflow/contrib/learn/python/learn/datasets/mnist.py:110: dense_to_one_hot (from tensorflow.contrib.learn.python.learn.datasets.mnist) is deprecated and will be removed in a future version.\n",
      "Instructions for updating:\n",
      "Please use tf.one_hot on tensors.\n",
      "Extracting official/mnist/dataset.py/t10k-images-idx3-ubyte.gz\n",
      "Extracting official/mnist/dataset.py/t10k-labels-idx1-ubyte.gz\n",
      "WARNING:tensorflow:From /usr/local/lib/python2.7/site-packages/tensorflow/contrib/learn/python/learn/datasets/mnist.py:290: __init__ (from tensorflow.contrib.learn.python.learn.datasets.mnist) is deprecated and will be removed in a future version.\n",
      "Instructions for updating:\n",
      "Please use alternatives such as official/mnist/dataset.py from tensorflow/models.\n"
     ]
    }
   ],
   "source": [
    "mnist = input_data.read_data_sets( 'official/mnist/dataset.py', one_hot=True )"
   ]
  },
  {
   "cell_type": "code",
   "execution_count": 4,
   "metadata": {},
   "outputs": [],
   "source": [
    "num_epochs = 20\n",
    "learning_rate = 0.01\n",
    "num_input = 784\n",
    "num_classes = 10\n",
    "layer_1_nodes = 128\n",
    "layer_2_nodes = 64"
   ]
  },
  {
   "cell_type": "code",
   "execution_count": 5,
   "metadata": {
    "scrolled": true
   },
   "outputs": [],
   "source": [
    "with tf.variable_scope('input'):\n",
    "    x = tf.placeholder(dtype=tf.float32,shape=[None,num_input])"
   ]
  },
  {
   "cell_type": "code",
   "execution_count": 6,
   "metadata": {},
   "outputs": [],
   "source": [
    "with tf.variable_scope('layer_1'):\n",
    "    weights_1 = tf.Variable(tf.random_normal(shape=[num_input,layer_1_nodes]))\n",
    "    biases_1 = tf.Variable(tf.random_normal(shape=[layer_1_nodes]))\n",
    "    layer_1_output = tf.add(tf.matmul(x,weights_1),biases_1)\n",
    "    layer_1_output = tf.nn.relu(layer_1_output)"
   ]
  },
  {
   "cell_type": "code",
   "execution_count": 7,
   "metadata": {},
   "outputs": [],
   "source": [
    "with tf.variable_scope('layer_2'):\n",
    "    weights_2 = tf.Variable(tf.random_normal(shape=[layer_1_nodes,layer_2_nodes]))\n",
    "    biases_2 = tf.Variable(tf.random_normal(shape=[layer_2_nodes]))\n",
    "    layer_2_output = tf.add(tf.matmul(layer_1_output,weights_2),biases_2)\n",
    "    layer_2_output = tf.nn.relu(layer_2_output)"
   ]
  },
  {
   "cell_type": "code",
   "execution_count": 8,
   "metadata": {},
   "outputs": [],
   "source": [
    "with tf.variable_scope('output'):\n",
    "    weights_out = tf.Variable(tf.random_normal(shape=[layer_2_nodes,num_classes]))\n",
    "    biases_out = tf.Variable(tf.random_normal(shape=[num_classes]))\n",
    "    output = tf.add(tf.matmul(layer_2_output,weights_out),biases_out)"
   ]
  },
  {
   "cell_type": "code",
   "execution_count": 9,
   "metadata": {},
   "outputs": [],
   "source": [
    "with tf.variable_scope('cost'):\n",
    "    y = tf.placeholder(dtype=tf.float32,shape=[None,num_classes])\n",
    "    cost = tf.nn.softmax_cross_entropy_with_logits_v2(logits=output,labels=y)\n",
    "    cost = tf.reduce_mean(cost)"
   ]
  },
  {
   "cell_type": "code",
   "execution_count": 10,
   "metadata": {},
   "outputs": [],
   "source": [
    "with tf.variable_scope('train'):\n",
    "    opt = tf.train.AdamOptimizer(learning_rate=learning_rate).minimize(cost)"
   ]
  },
  {
   "cell_type": "code",
   "execution_count": 11,
   "metadata": {},
   "outputs": [],
   "source": [
    "train_writer = tf.summary.FileWriter('./logs/training')\n",
    "train_writer.add_graph( tf.get_default_graph() )"
   ]
  },
  {
   "cell_type": "code",
   "execution_count": 12,
   "metadata": {},
   "outputs": [],
   "source": [
    "with tf.variable_scope('summary'):\n",
    "    summary = tf.summary.scalar('cost',cost)"
   ]
  },
  {
   "cell_type": "code",
   "execution_count": 13,
   "metadata": {},
   "outputs": [],
   "source": [
    "saver = tf.train.Saver()"
   ]
  },
  {
   "cell_type": "code",
   "execution_count": 16,
   "metadata": {},
   "outputs": [
    {
     "name": "stdout",
     "output_type": "stream",
     "text": [
      "INFO:tensorflow:Restoring parameters from ./weights/epoch_20.ckpt\n",
      "Epoch: 1\n",
      "Training Loss is 0.7185084\n",
      "Testing loss is 0.8486864578723907\n",
      "\n",
      " Model Saved \n",
      " \n",
      " ----------- \n",
      "\n",
      "Epoch: 2\n",
      "Training Loss is 0.6939354\n",
      "Testing loss is 0.7302602028846741\n",
      "\n",
      " Model Saved \n",
      " \n",
      " ----------- \n",
      "\n",
      "Epoch: 3\n",
      "Training Loss is 0.65802777\n",
      "Testing loss is 0.8774692815542221\n",
      "\n",
      " Model Saved \n",
      " \n",
      " ----------- \n",
      "\n",
      "Epoch: 4\n",
      "Training Loss is 0.71936846\n",
      "Testing loss is 0.9425578206777573\n",
      "\n",
      " Model Saved \n",
      " \n",
      " ----------- \n",
      "\n",
      "Epoch: 5\n",
      "Training Loss is 0.7683698\n",
      "Testing loss is 0.7785159295797348\n",
      "\n",
      " Model Saved \n",
      " \n",
      " ----------- \n",
      "\n",
      "Epoch: 6\n",
      "Training Loss is 0.71079034\n",
      "Testing loss is 0.8451855826377869\n",
      "\n",
      " Model Saved \n",
      " \n",
      " ----------- \n",
      "\n",
      "Epoch: 7\n",
      "Training Loss is 1.2979017\n",
      "Testing loss is 0.7609492892026901\n",
      "\n",
      " Model Saved \n",
      " \n",
      " ----------- \n",
      "\n",
      "Epoch: 8\n",
      "Training Loss is 0.78679746\n",
      "Testing loss is 0.652682997584343\n",
      "\n",
      " Model Saved \n",
      " \n",
      " ----------- \n",
      "\n",
      "Epoch: 9\n",
      "Training Loss is 0.78943855\n",
      "Testing loss is 0.6697133031487464\n",
      "\n",
      " Model Saved \n",
      " \n",
      " ----------- \n",
      "\n",
      "Epoch: 10\n",
      "Training Loss is 0.51252246\n",
      "Testing loss is 0.6378511574864387\n",
      "\n",
      " Model Saved \n",
      " \n",
      " ----------- \n",
      "\n",
      "Epoch: 11\n",
      "Training Loss is 0.60360926\n",
      "Testing loss is 0.5497236144542694\n",
      "\n",
      " Model Saved \n",
      " \n",
      " ----------- \n",
      "\n",
      "Epoch: 12\n",
      "Training Loss is 0.62041664\n",
      "Testing loss is 0.5929121536016464\n",
      "\n",
      " Model Saved \n",
      " \n",
      " ----------- \n",
      "\n",
      "Epoch: 13\n",
      "Training Loss is 0.7251448\n",
      "Testing loss is 0.6762880867719651\n",
      "\n",
      " Model Saved \n",
      " \n",
      " ----------- \n",
      "\n",
      "Epoch: 14\n",
      "Training Loss is 0.5995957\n",
      "Testing loss is 0.5918313410878181\n",
      "\n",
      " Model Saved \n",
      " \n",
      " ----------- \n",
      "\n",
      "Epoch: 15\n",
      "Training Loss is 0.69528633\n",
      "Testing loss is 0.6554074728488922\n",
      "\n",
      " Model Saved \n",
      " \n",
      " ----------- \n",
      "\n",
      "Epoch: 16\n",
      "Training Loss is 0.5762085\n",
      "Testing loss is 0.6513777905702591\n",
      "\n",
      " Model Saved \n",
      " \n",
      " ----------- \n",
      "\n",
      "Epoch: 17\n",
      "Training Loss is 0.57274383\n",
      "Testing loss is 0.5885399097204208\n",
      "\n",
      " Model Saved \n",
      " \n",
      " ----------- \n",
      "\n",
      "Epoch: 18\n",
      "Training Loss is 0.59778774\n",
      "Testing loss is 0.5892555943131447\n",
      "\n",
      " Model Saved \n",
      " \n",
      " ----------- \n",
      "\n",
      "Epoch: 19\n",
      "Training Loss is 0.6063015\n",
      "Testing loss is 0.5302825826406479\n",
      "\n",
      " Model Saved \n",
      " \n",
      " ----------- \n",
      "\n",
      "Epoch: 20\n",
      "Training Loss is 0.483222\n",
      "Testing loss is 0.6236704903841018\n",
      "\n",
      " Model Saved \n",
      " \n",
      " ----------- \n",
      "\n"
     ]
    }
   ],
   "source": [
    "with tf.Session() as sess:\n",
    "    sess.run(tf.global_variables_initializer())\n",
    "    last_ckpt = tf.train.latest_checkpoint('./weights')\n",
    "    saver.restore(sess,last_ckpt)\n",
    "    for epoch in range(num_epochs):\n",
    "        for _ in range(100):\n",
    "            data_x,data_y = mnist.train.next_batch(32)\n",
    "            sess.run(opt,feed_dict={\n",
    "                x:data_x,\n",
    "                y:data_y\n",
    "            })\n",
    "            data_x,data_y = mnist.train.next_batch(256)\n",
    "            training_loss,train_summary = sess.run([cost,summary],feed_dict = {\n",
    "                x:data_x,\n",
    "                y:data_y\n",
    "            })\n",
    "            train_writer.add_summary(train_summary,epoch)\n",
    "            test_loss=0.0\n",
    "            for _ in range(50):\n",
    "                data_x,data_y = mnist.test.next_batch(32)\n",
    "                test_loss += sess.run(cost, feed_dict = {\n",
    "                    x:data_x,\n",
    "                    y:data_y\n",
    "                })\n",
    "            test_loss = test_loss/50\n",
    "        print('Epoch: '+str(epoch+1))\n",
    "        print ( 'Training Loss is ' + str(training_loss) + '\\nTesting loss is ' + str(test_loss) + '\\n')\n",
    "        saver.save(sess, './weights/epoch_' + str(epoch + 1) + '.ckpt')\n",
    "        print (\" Model Saved \\n \")\n",
    "        print (\" ----------- \\n\")"
   ]
  },
  {
   "cell_type": "code",
   "execution_count": null,
   "metadata": {},
   "outputs": [],
   "source": []
  }
 ],
 "metadata": {
  "kernelspec": {
   "display_name": "Python 3",
   "language": "python",
   "name": "python3"
  },
  "language_info": {
   "codemirror_mode": {
    "name": "ipython",
    "version": 2
   },
   "file_extension": ".py",
   "mimetype": "text/x-python",
   "name": "python",
   "nbconvert_exporter": "python",
   "pygments_lexer": "ipython2",
   "version": "2.7.15"
  }
 },
 "nbformat": 4,
 "nbformat_minor": 2
}
