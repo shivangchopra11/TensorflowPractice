{
 "cells": [
  {
   "cell_type": "code",
   "execution_count": 1,
   "metadata": {},
   "outputs": [],
   "source": [
    "import tensorflow as tf\n",
    "import numpy as np"
   ]
  },
  {
   "cell_type": "code",
   "execution_count": 2,
   "metadata": {},
   "outputs": [],
   "source": [
    "from tensorflow.examples.tutorials.mnist import input_data"
   ]
  },
  {
   "cell_type": "code",
   "execution_count": 3,
   "metadata": {},
   "outputs": [
    {
     "name": "stdout",
     "output_type": "stream",
     "text": [
      "WARNING:tensorflow:From <ipython-input-3-8c78d5c07511>:1: read_data_sets (from tensorflow.contrib.learn.python.learn.datasets.mnist) is deprecated and will be removed in a future version.\n",
      "Instructions for updating:\n",
      "Please use alternatives such as official/mnist/dataset.py from tensorflow/models.\n",
      "WARNING:tensorflow:From /usr/local/lib/python2.7/site-packages/tensorflow/contrib/learn/python/learn/datasets/mnist.py:260: maybe_download (from tensorflow.contrib.learn.python.learn.datasets.base) is deprecated and will be removed in a future version.\n",
      "Instructions for updating:\n",
      "Please write your own downloading logic.\n",
      "WARNING:tensorflow:From /usr/local/lib/python2.7/site-packages/tensorflow/contrib/learn/python/learn/datasets/mnist.py:262: extract_images (from tensorflow.contrib.learn.python.learn.datasets.mnist) is deprecated and will be removed in a future version.\n",
      "Instructions for updating:\n",
      "Please use tf.data to implement this functionality.\n",
      "Extracting tensorflow/models/train-images-idx3-ubyte.gz\n",
      "WARNING:tensorflow:From /usr/local/lib/python2.7/site-packages/tensorflow/contrib/learn/python/learn/datasets/mnist.py:267: extract_labels (from tensorflow.contrib.learn.python.learn.datasets.mnist) is deprecated and will be removed in a future version.\n",
      "Instructions for updating:\n",
      "Please use tf.data to implement this functionality.\n",
      "Extracting tensorflow/models/train-labels-idx1-ubyte.gz\n",
      "WARNING:tensorflow:From /usr/local/lib/python2.7/site-packages/tensorflow/contrib/learn/python/learn/datasets/mnist.py:110: dense_to_one_hot (from tensorflow.contrib.learn.python.learn.datasets.mnist) is deprecated and will be removed in a future version.\n",
      "Instructions for updating:\n",
      "Please use tf.one_hot on tensors.\n",
      "Extracting tensorflow/models/t10k-images-idx3-ubyte.gz\n",
      "Extracting tensorflow/models/t10k-labels-idx1-ubyte.gz\n",
      "WARNING:tensorflow:From /usr/local/lib/python2.7/site-packages/tensorflow/contrib/learn/python/learn/datasets/mnist.py:290: __init__ (from tensorflow.contrib.learn.python.learn.datasets.mnist) is deprecated and will be removed in a future version.\n",
      "Instructions for updating:\n",
      "Please use alternatives such as official/mnist/dataset.py from tensorflow/models.\n"
     ]
    }
   ],
   "source": [
    "mnist = input_data.read_data_sets( 'tensorflow/models', one_hot=True )"
   ]
  },
  {
   "cell_type": "code",
   "execution_count": 4,
   "metadata": {},
   "outputs": [],
   "source": [
    "num_epochs = 20\n",
    "learning_rate = 0.01\n",
    "num_input = 784\n",
    "num_classes = 10\n",
    "layer_1_nodes = 128\n",
    "layer_2_nodes = 64"
   ]
  },
  {
   "cell_type": "code",
   "execution_count": 5,
   "metadata": {
    "scrolled": true
   },
   "outputs": [],
   "source": [
    "with tf.variable_scope('input'):\n",
    "    x = tf.placeholder(dtype=tf.float32,shape=[None,num_input])"
   ]
  },
  {
   "cell_type": "code",
   "execution_count": 6,
   "metadata": {},
   "outputs": [],
   "source": [
    "with tf.variable_scope('layer_1'):\n",
    "    weights_1 = tf.Variable(tf.random_normal(shape=[num_input,layer_1_nodes]))\n",
    "    biases_1 = tf.Variable(tf.random_normal(shape=[layer_1_nodes]))\n",
    "    layer_1_output = tf.add(tf.matmul(x,weights_1),biases_1)\n",
    "    layer_1_output = tf.nn.relu(layer_1_output)"
   ]
  },
  {
   "cell_type": "code",
   "execution_count": 7,
   "metadata": {},
   "outputs": [],
   "source": [
    "with tf.variable_scope('layer_2'):\n",
    "    weights_2 = tf.Variable(tf.random_normal(shape=[layer_1_nodes,layer_2_nodes]))\n",
    "    biases_2 = tf.Variable(tf.random_normal(shape=[layer_2_nodes]))\n",
    "    layer_2_output = tf.add(tf.matmul(layer_1_output,weights_2),biases_2)\n",
    "    layer_2_output = tf.nn.relu(layer_2_output)"
   ]
  },
  {
   "cell_type": "code",
   "execution_count": 8,
   "metadata": {},
   "outputs": [],
   "source": [
    "with tf.variable_scope('output'):\n",
    "    weights_out = tf.Variable(tf.random_normal(shape=[layer_2_nodes,num_classes]))\n",
    "    biases_out = tf.Variable(tf.random_normal(shape=[num_classes]))\n",
    "    output = tf.add(tf.matmul(layer_2_output,weights_out),biases_out)"
   ]
  },
  {
   "cell_type": "code",
   "execution_count": 9,
   "metadata": {},
   "outputs": [],
   "source": [
    "with tf.variable_scope('cost'):\n",
    "    y = tf.placeholder(dtype=tf.float32,shape=[None,num_classes])\n",
    "    cost = tf.nn.softmax_cross_entropy_with_logits_v2(logits=output,labels=y)\n",
    "    cost = tf.reduce_mean(cost)"
   ]
  },
  {
   "cell_type": "code",
   "execution_count": 10,
   "metadata": {},
   "outputs": [],
   "source": [
    "with tf.variable_scope('train'):\n",
    "    opt = tf.train.AdamOptimizer(learning_rate=learning_rate).minimize(cost)"
   ]
  },
  {
   "cell_type": "code",
   "execution_count": 11,
   "metadata": {},
   "outputs": [],
   "source": [
    "train_writer = tf.summary.FileWriter('./logs/training')\n",
    "train_writer.add_graph( tf.get_default_graph() )"
   ]
  },
  {
   "cell_type": "code",
   "execution_count": 12,
   "metadata": {},
   "outputs": [],
   "source": [
    "with tf.variable_scope('summary'):\n",
    "    summary = tf.summary.scalar('cost',cost)"
   ]
  },
  {
   "cell_type": "code",
   "execution_count": 13,
   "metadata": {},
   "outputs": [],
   "source": [
    "saver = tf.train.Saver()"
   ]
  },
  {
   "cell_type": "code",
   "execution_count": 14,
   "metadata": {},
   "outputs": [
    {
     "name": "stdout",
     "output_type": "stream",
     "text": [
      "Epoch: 1\n",
      "Training Loss is 23.145855\n",
      "Testing loss is 20.223275289535522\n",
      "\n",
      " Model Saved \n",
      " \n",
      " ----------- \n",
      "\n",
      "Epoch: 2\n",
      "Training Loss is 16.857456\n",
      "Testing loss is 14.973014316558839\n",
      "\n",
      " Model Saved \n",
      " \n",
      " ----------- \n",
      "\n",
      "Epoch: 3\n",
      "Training Loss is 10.4319315\n",
      "Testing loss is 10.279210615158082\n",
      "\n",
      " Model Saved \n",
      " \n",
      " ----------- \n",
      "\n",
      "Epoch: 4\n",
      "Training Loss is 8.104411\n",
      "Testing loss is 8.391473232209682\n",
      "\n",
      " Model Saved \n",
      " \n",
      " ----------- \n",
      "\n",
      "Epoch: 5\n",
      "Training Loss is 6.0691156\n",
      "Testing loss is 5.456660756617346\n",
      "\n",
      " Model Saved \n",
      " \n",
      " ----------- \n",
      "\n",
      "Epoch: 6\n",
      "Training Loss is 5.682414\n",
      "Testing loss is 6.278430982232094\n",
      "\n",
      " Model Saved \n",
      " \n",
      " ----------- \n",
      "\n",
      "Epoch: 7\n",
      "Training Loss is 5.019248\n",
      "Testing loss is 4.526571584939957\n",
      "\n",
      " Model Saved \n",
      " \n",
      " ----------- \n",
      "\n",
      "Epoch: 8\n",
      "Training Loss is 2.268877\n",
      "Testing loss is 3.577543681561947\n",
      "\n",
      " Model Saved \n",
      " \n",
      " ----------- \n",
      "\n",
      "Epoch: 9\n",
      "Training Loss is 1.564962\n",
      "Testing loss is 1.8205937033891677\n",
      "\n",
      " Model Saved \n",
      " \n",
      " ----------- \n",
      "\n",
      "Epoch: 10\n",
      "Training Loss is 1.6460586\n",
      "Testing loss is 1.655057693719864\n",
      "\n",
      " Model Saved \n",
      " \n",
      " ----------- \n",
      "\n",
      "Epoch: 11\n",
      "Training Loss is 1.5050523\n",
      "Testing loss is 1.477058343887329\n",
      "\n",
      " Model Saved \n",
      " \n",
      " ----------- \n",
      "\n",
      "Epoch: 12\n",
      "Training Loss is 1.1453793\n",
      "Testing loss is 1.2736653071641921\n",
      "\n",
      " Model Saved \n",
      " \n",
      " ----------- \n",
      "\n",
      "Epoch: 13\n",
      "Training Loss is 0.8140635\n",
      "Testing loss is 1.2381252127885818\n",
      "\n",
      " Model Saved \n",
      " \n",
      " ----------- \n",
      "\n",
      "Epoch: 14\n",
      "Training Loss is 1.0285643\n",
      "Testing loss is 1.1440106689929963\n",
      "\n",
      " Model Saved \n",
      " \n",
      " ----------- \n",
      "\n",
      "Epoch: 15\n",
      "Training Loss is 0.7281145\n",
      "Testing loss is 0.890594733953476\n",
      "\n",
      " Model Saved \n",
      " \n",
      " ----------- \n",
      "\n",
      "Epoch: 16\n",
      "Training Loss is 0.7876033\n",
      "Testing loss is 0.908762058019638\n",
      "\n",
      " Model Saved \n",
      " \n",
      " ----------- \n",
      "\n",
      "Epoch: 17\n",
      "Training Loss is 0.7446817\n",
      "Testing loss is 1.081602229475975\n",
      "\n",
      " Model Saved \n",
      " \n",
      " ----------- \n",
      "\n",
      "Epoch: 18\n",
      "Training Loss is 0.7932496\n",
      "Testing loss is 0.8621758964657783\n",
      "\n",
      " Model Saved \n",
      " \n",
      " ----------- \n",
      "\n",
      "Epoch: 19\n",
      "Training Loss is 0.65133095\n",
      "Testing loss is 0.7748956689238549\n",
      "\n",
      " Model Saved \n",
      " \n",
      " ----------- \n",
      "\n",
      "Epoch: 20\n",
      "Training Loss is 0.5636343\n",
      "Testing loss is 0.7256894662976265\n",
      "\n",
      " Model Saved \n",
      " \n",
      " ----------- \n",
      "\n"
     ]
    }
   ],
   "source": [
    "with tf.Session() as sess:\n",
    "    sess.run(tf.global_variables_initializer())\n",
    "#     last_ckpt = tf.train.latest_checkpoint('./weights')\n",
    "#     saver.restore(sess,last_ckpt)\n",
    "    for epoch in range(num_epochs):\n",
    "        for _ in range(100):\n",
    "            data_x,data_y = mnist.train.next_batch(32)\n",
    "            sess.run(opt,feed_dict={\n",
    "                x:data_x,\n",
    "                y:data_y\n",
    "            })\n",
    "            data_x,data_y = mnist.train.next_batch(256)\n",
    "            training_loss,train_summary = sess.run([cost,summary],feed_dict = {\n",
    "                x:data_x,\n",
    "                y:data_y\n",
    "            })\n",
    "            train_writer.add_summary(train_summary,epoch)\n",
    "            test_loss=0.0\n",
    "            for _ in range(50):\n",
    "                data_x,data_y = mnist.test.next_batch(32)\n",
    "                test_loss += sess.run(cost, feed_dict = {\n",
    "                    x:data_x,\n",
    "                    y:data_y\n",
    "                })\n",
    "            test_loss = test_loss/50\n",
    "        print('Epoch: '+str(epoch+1))\n",
    "        print ( 'Training Loss is ' + str(training_loss) + '\\nTesting loss is ' + str(test_loss) + '\\n')\n",
    "        saver.save(sess, './weights/epoch_' + str(epoch + 1) + '.ckpt')\n",
    "        print (\" Model Saved \\n \")\n",
    "        print (\" ----------- \\n\")"
   ]
  },
  {
   "cell_type": "code",
   "execution_count": null,
   "metadata": {},
   "outputs": [],
   "source": []
  }
 ],
 "metadata": {
  "kernelspec": {
   "display_name": "Python 3",
   "language": "python",
   "name": "python3"
  },
  "language_info": {
   "codemirror_mode": {
    "name": "ipython",
    "version": 2
   },
   "file_extension": ".py",
   "mimetype": "text/x-python",
   "name": "python",
   "nbconvert_exporter": "python",
   "pygments_lexer": "ipython2",
   "version": "2.7.15"
  }
 },
 "nbformat": 4,
 "nbformat_minor": 2
}
